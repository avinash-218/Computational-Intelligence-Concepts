{
  "nbformat": 4,
  "nbformat_minor": 0,
  "metadata": {
    "colab": {
      "provenance": [],
      "collapsed_sections": []
    },
    "kernelspec": {
      "name": "python3",
      "display_name": "Python 3"
    },
    "language_info": {
      "name": "python"
    }
  },
  "cells": [
    {
      "cell_type": "markdown",
      "source": [
        "# Import Libraries"
      ],
      "metadata": {
        "id": "lmcrUQw_OO2m"
      }
    },
    {
      "cell_type": "code",
      "source": [
        "import numpy as np"
      ],
      "metadata": {
        "id": "X7BEUrN3NShu"
      },
      "execution_count": null,
      "outputs": []
    },
    {
      "cell_type": "markdown",
      "source": [
        "# Input Data"
      ],
      "metadata": {
        "id": "Xtl4guK6P7UN"
      }
    },
    {
      "cell_type": "code",
      "source": [
        "data = None\n",
        "t = None\n",
        "gate = 'and'\n",
        "\n",
        "if(gate=='and'):\n",
        "  data = np.array([[0,0,0], [0,1,0], [1,0,0], [1,1,1]])\n",
        "elif(gate=='or'):\n",
        "  data = np.array([[0,0,0], [0,1,1], [1,0,1], [1,1,1]])\n",
        "\n",
        "epochs = 1000"
      ],
      "metadata": {
        "id": "arJ-6Ah8P9NU"
      },
      "execution_count": null,
      "outputs": []
    },
    {
      "cell_type": "markdown",
      "source": [
        "# Class Perceptron"
      ],
      "metadata": {
        "id": "QbycpmIAORnV"
      }
    },
    {
      "cell_type": "code",
      "source": [
        "class Perceptron_Gate:\n",
        "  def __init__(self, data, epochs):\n",
        "    self.X = data[:,:2]\n",
        "    self.t = data[:,2]\n",
        "    self.n, self.m = self.X.shape    \n",
        "    self.w1 = 0.3#np.random.rand(1)#random weight initialization\n",
        "    self.w2 = -0.2#np.random.rand(1)#random weight initialization\n",
        "    self.bias = 1#np.random.rand(1) #random bias initialization\n",
        "    self.alpha = 0.2 #learning rate\n",
        "    self.epochs = epochs\n",
        "\n",
        "  def calc_z(self, i):# calc Z = X[0]*W[0] + X[1]*W[1] + b\n",
        "    z = self.X[i][0]*self.w1 + self.X[i][1]*self.w2 + self.bias\n",
        "    return z\n",
        "\n",
        "  @staticmethod\n",
        "  def bin_activate(z, threshold=0.4):# binary activation threshold = 1\n",
        "    return int(z>=threshold)\n",
        "\n",
        "  def update_weights(self, error, i):#update weights\n",
        "    self.w1 = self.w1 + self.alpha*error*self.X[i][0]\n",
        "    self.w2 = self.w2 + self.alpha*error*self.X[i][1]\n",
        "\n",
        "    self.bias = self.bias + self.alpha*error\n",
        "\n",
        "  def train(self):\n",
        "    print(\"Epoch\\tX1\\tX2\\tt\\ty\\tW1\\t\\tW2\\t\\tb\")\n",
        "    print('-'*80)\n",
        "\n",
        "    for epoch in range(self.epochs):#epochs\n",
        "      cnt = 0\n",
        "      for i in range(len(self.X)):#each samples\n",
        "        z = self.calc_z(i)#calc z\n",
        "        pred = Perceptron_Gate.bin_activate(z)#activate output\n",
        "        error = self.t[i] - pred#calc error\n",
        "\n",
        "        if(error):#actual not equals real output\n",
        "          self.update_weights(error, i)#update weight\n",
        "        else:#increment counter if output matches with predicted\n",
        "          cnt+=1\n",
        "        print('{}\\t{}\\t{}\\t{}\\t{}\\t{}\\t\\t{}\\t\\t{}'.format(epoch, self.X[i][0], self.X[i][1], self.t[i], pred, round(self.w1,3), round(self.w2,3), round(self.bias,3)))\n",
        "        \n",
        "      if(cnt==len(self.X)):#all samples are correctly predicted, stop training\n",
        "        print('Model Trained in {} epochs'.format(epoch))\n",
        "        break\n",
        "      print()\n",
        "\n",
        "  def check_weights(self):#check weights-whether trained weights satisfy all the samples\n",
        "    print('X1\\tX2\\tReal\\tPredicted')\n",
        "    for i in range(len(self.X)):\n",
        "      print(self.X[i][0], self.X[i][1], self.t[i], Perceptron_Gate.bin_activate(self.X[i][0]*self.w1 + self.X[i][1]*self.w2 + self.bias), sep='\\t')"
      ],
      "metadata": {
        "id": "ozVwUUNINayf"
      },
      "execution_count": null,
      "outputs": []
    },
    {
      "cell_type": "markdown",
      "source": [
        "# Create Instance"
      ],
      "metadata": {
        "id": "h3tqwOzFF7jZ"
      }
    },
    {
      "cell_type": "code",
      "source": [
        "obj = Perceptron_Gate(data, epochs)"
      ],
      "metadata": {
        "id": "1r1AR_4FF8gK"
      },
      "execution_count": null,
      "outputs": []
    },
    {
      "cell_type": "markdown",
      "source": [
        "# Train"
      ],
      "metadata": {
        "id": "P-wgYQ05RpJj"
      }
    },
    {
      "cell_type": "code",
      "source": [
        "obj.train()"
      ],
      "metadata": {
        "colab": {
          "base_uri": "https://localhost:8080/"
        },
        "id": "ia1M4QvYRpzL",
        "outputId": "a6ecaadc-d2d4-48d6-bb32-a9c726bf0595"
      },
      "execution_count": null,
      "outputs": [
        {
          "output_type": "stream",
          "name": "stdout",
          "text": [
            "Epoch\tX1\tX2\tt\ty\tW1\t\tW2\t\tb\n",
            "--------------------------------------------------------------------------------\n",
            "0\t0\t0\t0\t1\t0.3\t\t-0.2\t\t0.8\n",
            "0\t0\t1\t0\t1\t0.3\t\t-0.4\t\t0.6\n",
            "0\t1\t0\t0\t1\t0.1\t\t-0.4\t\t0.4\n",
            "0\t1\t1\t1\t0\t0.3\t\t-0.2\t\t0.6\n",
            "\n",
            "1\t0\t0\t0\t1\t0.3\t\t-0.2\t\t0.4\n",
            "1\t0\t1\t0\t0\t0.3\t\t-0.2\t\t0.4\n",
            "1\t1\t0\t0\t1\t0.1\t\t-0.2\t\t0.2\n",
            "1\t1\t1\t1\t0\t0.3\t\t0.0\t\t0.4\n",
            "\n",
            "2\t0\t0\t0\t1\t0.3\t\t0.0\t\t0.2\n",
            "2\t0\t1\t0\t0\t0.3\t\t0.0\t\t0.2\n",
            "2\t1\t0\t0\t1\t0.1\t\t0.0\t\t0.0\n",
            "2\t1\t1\t1\t0\t0.3\t\t0.2\t\t0.2\n",
            "\n",
            "3\t0\t0\t0\t0\t0.3\t\t0.2\t\t0.2\n",
            "3\t0\t1\t0\t1\t0.3\t\t0.0\t\t0.0\n",
            "3\t1\t0\t0\t0\t0.3\t\t0.0\t\t0.0\n",
            "3\t1\t1\t1\t0\t0.5\t\t0.2\t\t0.2\n",
            "\n",
            "4\t0\t0\t0\t0\t0.5\t\t0.2\t\t0.2\n",
            "4\t0\t1\t0\t1\t0.5\t\t0.0\t\t0.0\n",
            "4\t1\t0\t0\t1\t0.3\t\t0.0\t\t-0.2\n",
            "4\t1\t1\t1\t0\t0.5\t\t0.2\t\t0.0\n",
            "\n",
            "5\t0\t0\t0\t0\t0.5\t\t0.2\t\t0.0\n",
            "5\t0\t1\t0\t0\t0.5\t\t0.2\t\t0.0\n",
            "5\t1\t0\t0\t1\t0.3\t\t0.2\t\t-0.2\n",
            "5\t1\t1\t1\t0\t0.5\t\t0.4\t\t0.0\n",
            "\n",
            "6\t0\t0\t0\t0\t0.5\t\t0.4\t\t0.0\n",
            "6\t0\t1\t0\t1\t0.5\t\t0.2\t\t-0.2\n",
            "6\t1\t0\t0\t0\t0.5\t\t0.2\t\t-0.2\n",
            "6\t1\t1\t1\t1\t0.5\t\t0.2\t\t-0.2\n",
            "\n",
            "7\t0\t0\t0\t0\t0.5\t\t0.2\t\t-0.2\n",
            "7\t0\t1\t0\t0\t0.5\t\t0.2\t\t-0.2\n",
            "7\t1\t0\t0\t0\t0.5\t\t0.2\t\t-0.2\n",
            "7\t1\t1\t1\t1\t0.5\t\t0.2\t\t-0.2\n",
            "Model Trained in 7 epochs\n"
          ]
        }
      ]
    },
    {
      "cell_type": "markdown",
      "source": [
        "# Verify Trained Weights of the Model"
      ],
      "metadata": {
        "id": "NqWDdHrJRqmq"
      }
    },
    {
      "cell_type": "code",
      "source": [
        "obj.check_weights()"
      ],
      "metadata": {
        "colab": {
          "base_uri": "https://localhost:8080/"
        },
        "id": "VcOZBkzGP3FM",
        "outputId": "2427ad01-b19c-4f0f-c8ba-14ad0d3fea9e"
      },
      "execution_count": null,
      "outputs": [
        {
          "output_type": "stream",
          "name": "stdout",
          "text": [
            "X1\tX2\tReal\tPredicted\n",
            "0\t0\t0\t0\n",
            "0\t1\t0\t0\n",
            "1\t0\t0\t0\n",
            "1\t1\t1\t1\n"
          ]
        }
      ]
    }
  ]
}