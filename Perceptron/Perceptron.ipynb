{
 "cells": [
  {
   "cell_type": "markdown",
   "id": "e2b7cfdb",
   "metadata": {},
   "source": [
    "# Import Libraries"
   ]
  },
  {
   "cell_type": "code",
   "execution_count": 1,
   "id": "777362d9",
   "metadata": {},
   "outputs": [],
   "source": [
    "import numpy as np"
   ]
  },
  {
   "cell_type": "markdown",
   "id": "696e32c9",
   "metadata": {},
   "source": [
    "# Data & Parameters Init"
   ]
  },
  {
   "cell_type": "code",
   "execution_count": 2,
   "id": "0ac3b8c1",
   "metadata": {},
   "outputs": [],
   "source": [
    "data1 = np.array([[0,0,0], [0,1,0], [1,0,0], [1,1,1]])\n",
    "data2 = np.array([[0,0,-1], [0,1,-1], [1,0,-1], [1,1,1]])\n",
    "\n",
    "epochs = 1000\n",
    "w1 = 0.3\n",
    "w2 = -0.2\n",
    "b = 1\n",
    "lr = 0.2\n",
    "theta = 0.4"
   ]
  },
  {
   "cell_type": "markdown",
   "id": "5271e849",
   "metadata": {},
   "source": [
    "# Class Perceptron"
   ]
  },
  {
   "cell_type": "code",
   "execution_count": 3,
   "id": "4dd1cc78",
   "metadata": {},
   "outputs": [],
   "source": [
    "class Perceptron:\n",
    "    def __init__(self, data, epochs, w1, w2, b, lr, theta):\n",
    "        self.data = data#input data\n",
    "        self.X = data[:,:2]#features\n",
    "        self.t = data[:,2]#target\n",
    "        self.epochs = epochs\n",
    "        self.w1 = w1#weight 1\n",
    "        self.w2 = w2#weight 2\n",
    "        self.b = b#bias\n",
    "        self.lr = lr #learning rate\n",
    "        self.theta = theta #activation threshold\n",
    "        self.l = len(self.data)#number of samples\n",
    "        \n",
    "    def calc_net_input(self, i): # Z = x1*w1 + x2*w2 + b\n",
    "        # i - ith row\n",
    "        return self.X[i][0]*self.w1 + self.X[i][1]*self.w2 + self.b\n",
    "    \n",
    "    def binary_activation(self, z):#binary activation\n",
    "        return int(z>=self.theta)#if z>theta, 1; else 0\n",
    "    \n",
    "    def bipolar_activation(self, z):#bipolar activation\n",
    "        if(z>=self.theta):\n",
    "            return 1\n",
    "        else:\n",
    "            return -1\n",
    "        \n",
    "    def update_weights(self, i, a):\n",
    "        #i-ith row\n",
    "        \n",
    "        #self.w1 = self.w1 - self.lr*self.X[i][0]*self.t[i] #w1 = w1 + alpha*t*x\n",
    "        #self.w2 = self.w2 - self.lr*self.X[i][1]*self.t[i] #w2 = w2 + alpha*t*x\n",
    "        #self.b = self.b - self.lr*self.t[i] #b = b + alpha*t\n",
    "        \n",
    "        error = a-self.t[i]\n",
    "        self.w1 = self.w1 - self.lr*self.X[i][0]*error #w1 = w1 + alpha*x*error\n",
    "        self.w2 = self.w2 - self.lr*self.X[i][1]*error #w2 = w2 + alpha*x*error\n",
    "        self.b = self.b - self.lr*error #b = b + alpha*error\n",
    "        \n",
    "    def train(self):\n",
    "        for epoch in range(self.epochs):\n",
    "            cnt = 0 #init counter for this epoch to verify convergence\n",
    "            \n",
    "            for i in range(self.l):\n",
    "                z = self.calc_net_input(i)#calc net input\n",
    "                a = self.bipolar_activation(z)#activated net input\n",
    "                \n",
    "                if(a!=self.t[i]):#if predicted out and actual out is not same, update weights\n",
    "                    self.update_weights(i, a)#update weights\n",
    "                else:#if no weight update increment counter\n",
    "                    cnt+=1\n",
    "                    \n",
    "            if(cnt==self.l):#no weight update for entire samples in this epoch, it means model is converged\n",
    "                break\n",
    "                \n",
    "        print(self.w1, self.w2, self.b, epoch+1)\n",
    "    \n",
    "    def check_weights(self):\n",
    "        for i in range(self.l):\n",
    "            print(self.X[i][0], self.X[i][1], self.t[i], self.bipolar_activation(self.calc_net_input(i)))"
   ]
  },
  {
   "cell_type": "markdown",
   "id": "1412b286",
   "metadata": {},
   "source": [
    "#  Training"
   ]
  },
  {
   "cell_type": "code",
   "execution_count": 4,
   "id": "ffe72fb9",
   "metadata": {},
   "outputs": [
    {
     "name": "stdout",
     "output_type": "stream",
     "text": [
      "1.1 0.6 -1.0 9\n"
     ]
    }
   ],
   "source": [
    "perceptron = Perceptron(data2, epochs, w1, w2, b, lr, theta)\n",
    "perceptron.train()"
   ]
  },
  {
   "cell_type": "markdown",
   "id": "9800f967",
   "metadata": {},
   "source": [
    "# Check Converged Parameters"
   ]
  },
  {
   "cell_type": "code",
   "execution_count": 5,
   "id": "61a8a70f",
   "metadata": {},
   "outputs": [
    {
     "name": "stdout",
     "output_type": "stream",
     "text": [
      "0 0 -1 -1\n",
      "0 1 -1 -1\n",
      "1 0 -1 -1\n",
      "1 1 1 1\n"
     ]
    }
   ],
   "source": [
    "perceptron.check_weights()"
   ]
  }
 ],
 "metadata": {
  "kernelspec": {
   "display_name": "Python 3 (ipykernel)",
   "language": "python",
   "name": "python3"
  },
  "language_info": {
   "codemirror_mode": {
    "name": "ipython",
    "version": 3
   },
   "file_extension": ".py",
   "mimetype": "text/x-python",
   "name": "python",
   "nbconvert_exporter": "python",
   "pygments_lexer": "ipython3",
   "version": "3.9.7"
  }
 },
 "nbformat": 4,
 "nbformat_minor": 5
}
