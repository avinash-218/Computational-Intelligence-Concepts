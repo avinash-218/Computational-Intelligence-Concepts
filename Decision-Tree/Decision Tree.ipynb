{
 "cells": [
  {
   "cell_type": "markdown",
   "id": "7c12d6bb",
   "metadata": {},
   "source": [
    "# Import Libraries"
   ]
  },
  {
   "cell_type": "code",
   "execution_count": 1,
   "id": "2e5e666d",
   "metadata": {},
   "outputs": [],
   "source": [
    "import pandas as pd\n",
    "import numpy as np"
   ]
  },
  {
   "cell_type": "markdown",
   "id": "ebf91cf4",
   "metadata": {},
   "source": [
    "# Import Dataset"
   ]
  },
  {
   "cell_type": "code",
   "execution_count": 2,
   "id": "c11579dd",
   "metadata": {},
   "outputs": [],
   "source": [
    "data = pd.read_csv('./Decision_Tree.csv')\n",
    "data.drop('Day', inplace=True, axis=1)"
   ]
  },
  {
   "cell_type": "markdown",
   "id": "1aae7307",
   "metadata": {},
   "source": [
    "# Entropy Calculation Function"
   ]
  },
  {
   "cell_type": "code",
   "execution_count": 3,
   "id": "e06c0263",
   "metadata": {},
   "outputs": [],
   "source": [
    "def entropy(pos, neg):\n",
    "    if(pos==0 or neg==0):\n",
    "        return 0\n",
    "    elif(pos==neg):\n",
    "        return 1\n",
    "\n",
    "    tot = pos+neg\n",
    "\n",
    "    pos_ent = -(pos/tot) * np.log2(pos/tot)\n",
    "    neg_ent = -(neg/tot) * np.log2(neg/tot)\n",
    "\n",
    "    return round(pos_ent+neg_ent, 3)"
   ]
  },
  {
   "cell_type": "markdown",
   "id": "b9ed8a79",
   "metadata": {},
   "source": [
    "# Entropy of Entire Dataset"
   ]
  },
  {
   "cell_type": "code",
   "execution_count": 4,
   "id": "b7fdcec9",
   "metadata": {},
   "outputs": [
    {
     "name": "stdout",
     "output_type": "stream",
     "text": [
      "9 5 14 0.94\n"
     ]
    }
   ],
   "source": [
    "#calculate entropy for the entire dataset\n",
    "pos_d = len(data[data['PlayTennis']=='Yes'])\n",
    "neg_d = len(data[data['PlayTennis']=='No'])\n",
    "tot_d = len(data)\n",
    "\n",
    "entropy_d = entropy(pos_d, neg_d)\n",
    "print(pos_d, neg_d, tot_d, entropy_d)"
   ]
  },
  {
   "cell_type": "markdown",
   "id": "f2e4cd5c",
   "metadata": {},
   "source": [
    "# Entropy and Information Calculation"
   ]
  },
  {
   "cell_type": "code",
   "execution_count": 5,
   "id": "51c5be15",
   "metadata": {},
   "outputs": [
    {
     "data": {
      "text/plain": [
       "{'Outlook': {'Sunny': 0.971, 'Overcast': 0, 'Rain': 0.971},\n",
       " 'Temperature': {'Hot': 1, 'Mild': 0.918, 'Cool': 0.811},\n",
       " 'Humidity': {'High': 0.985, 'Normal': 0.592},\n",
       " 'Wind': {'Weak': 0.811, 'Strong': 1}}"
      ]
     },
     "metadata": {},
     "output_type": "display_data"
    },
    {
     "data": {
      "text/plain": [
       "{'Outlook': 0.6935714285714286,\n",
       " 'Temperature': 0.9108571428571428,\n",
       " 'Humidity': 0.7885,\n",
       " 'Wind': 0.8919999999999999}"
      ]
     },
     "metadata": {},
     "output_type": "display_data"
    }
   ],
   "source": [
    "entropies = dict()#dict of dictionary containing entropies of each category in each column\n",
    "info = dict()#dict containing information of each column\n",
    "\n",
    "for i in data.columns[:-1]:#loop through each columns except target column\n",
    "    entropies[i]=dict()#initialize inner dict\n",
    "    info[i] = 0#initialize information\n",
    "    \n",
    "    for j in list(data[i].unique()):#loop through each category in ith column\n",
    "        \n",
    "        pos = len(data[(data[i]==j) & (data['PlayTennis']=='Yes')])#get count of playtennis=yes for category j in column i\n",
    "        neg = len(data[(data[i]==j) & (data['PlayTennis']=='No')])#get count of playtennis=no for category j in column i\n",
    "        \n",
    "        entropies[i][j] = entropy(pos, neg)#calculate entropy for column i category j\n",
    "        info[i] = info[i] + ((pos+neg)/tot_d)*entropies[i][j]#calculate information of column i\n",
    "        \n",
    "display(entropies)\n",
    "display(info)"
   ]
  },
  {
   "cell_type": "markdown",
   "id": "9152cb43",
   "metadata": {},
   "source": [
    "# Information Gain Calculation"
   ]
  },
  {
   "cell_type": "code",
   "execution_count": 6,
   "id": "5ac97893",
   "metadata": {},
   "outputs": [
    {
     "data": {
      "text/plain": [
       "[('Outlook', 0.2464),\n",
       " ('Humidity', 0.1515),\n",
       " ('Wind', 0.048),\n",
       " ('Temperature', 0.0291)]"
      ]
     },
     "execution_count": 6,
     "metadata": {},
     "output_type": "execute_result"
    }
   ],
   "source": [
    "info_gain = dict()\n",
    "\n",
    "for k,v in info.items():\n",
    "    info_gain[k] = round(entropy_d-v,4)#calc information gain by 'entropy of entire dataset' - information of column i\n",
    "\n",
    "info_gain = sorted(info_gain.items(), key=lambda x:x[1], reverse=True)#sort based on first index(information gain), descendingly\n",
    "info_gain"
   ]
  }
 ],
 "metadata": {
  "kernelspec": {
   "display_name": "Python 3 (ipykernel)",
   "language": "python",
   "name": "python3"
  },
  "language_info": {
   "codemirror_mode": {
    "name": "ipython",
    "version": 3
   },
   "file_extension": ".py",
   "mimetype": "text/x-python",
   "name": "python",
   "nbconvert_exporter": "python",
   "pygments_lexer": "ipython3",
   "version": "3.9.7"
  }
 },
 "nbformat": 4,
 "nbformat_minor": 5
}
